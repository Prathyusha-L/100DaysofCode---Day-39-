{
 "cells": [
  {
   "cell_type": "markdown",
   "metadata": {},
   "source": [
    "# Name: - L Prathyusha"
   ]
  },
  {
   "cell_type": "code",
   "execution_count": 2,
   "metadata": {},
   "outputs": [],
   "source": [
    "import requests\n",
    "from bs4 import BeautifulSoup\n",
    "session=requests.Session()\n",
    "url=\"https://github.com/login\"\n",
    "username='Macuyiko'\n",
    "#visit the login page\n",
    "r=session.get(url.format('login'))\n",
    "html_soup=BeautifulSoup(r.text,'html.parser')"
   ]
  },
  {
   "cell_type": "code",
   "execution_count": 3,
   "metadata": {},
   "outputs": [
    {
     "data": {
      "text/plain": [
       "[<form accept-charset=\"UTF-8\" action=\"/session\" method=\"post\"><input name=\"authenticity_token\" type=\"hidden\" value=\"esG/SkEqHT1389Cevy9Twm7QthhRx/jRKOcaKB7HL4hJ1CKDPA2P4Zf6GkO93CNQ/9ZVB4647NZ4AUuvOPnU9w==\"> <label for=\"login_field\">\n",
       "     Username or email address\n",
       "   </label>\n",
       " <input autocapitalize=\"off\" autocomplete=\"username\" autocorrect=\"off\" autofocus=\"autofocus\" class=\"form-control input-block\" id=\"login_field\" name=\"login\" type=\"text\"/>\n",
       " <div class=\"position-relative\">\n",
       " <label for=\"password\">\n",
       "       Password\n",
       "     </label>\n",
       " <input autocomplete=\"current-password\" class=\"form-control form-control input-block\" id=\"password\" name=\"password\" type=\"password\"/>\n",
       " <input class=\"form-control\" id=\"trusted_device\" name=\"trusted_device\" type=\"hidden\"/>\n",
       " <input class=\"js-webauthn-support\" name=\"webauthn-support\" type=\"hidden\" value=\"unknown\"/>\n",
       " <input class=\"js-webauthn-iuvpaa-support\" name=\"webauthn-iuvpaa-support\" type=\"hidden\" value=\"unknown\"/>\n",
       " <input class=\"form-control\" id=\"return_to\" name=\"return_to\" type=\"hidden\" value=\"https://github.com/login\">\n",
       " <input class=\"form-control\" id=\"allow_signup\" name=\"allow_signup\" type=\"hidden\">\n",
       " <input class=\"form-control\" id=\"client_id\" name=\"client_id\" type=\"hidden\"/>\n",
       " <input class=\"form-control\" id=\"integration\" name=\"integration\" type=\"hidden\"/>\n",
       " <input class=\"form-control\" hidden=\"hidden\" name=\"required_field_29e0\" type=\"text\"/><input class=\"form-control\" name=\"timestamp\" type=\"hidden\" value=\"1627964557427\"/><input class=\"form-control\" name=\"timestamp_secret\" type=\"hidden\" value=\"357db7c4c4e283d61d6cf1f88316136103859d1b0997e2c5a29d9c5ecd3e5f25\"/>\n",
       " <input class=\"btn btn-primary btn-block\" data-disable-with=\"Signing in…\" name=\"commit\" type=\"submit\" value=\"Sign in\"/>\n",
       " <a class=\"label-link position-absolute top-0 right-0\" href=\"/password_reset\" tabindex=\"0\">Forgot password?</a>\n",
       " </input></input></div>\n",
       " </input></form>]"
      ]
     },
     "execution_count": 3,
     "metadata": {},
     "output_type": "execute_result"
    }
   ],
   "source": [
    "form=html_soup.find_all('form')\n",
    "form"
   ]
  },
  {
   "cell_type": "code",
   "execution_count": 4,
   "metadata": {},
   "outputs": [
    {
     "data": {
      "text/plain": [
       "[<input class=\"js-octo-ga-id-input\" name=\"ga_id\" type=\"hidden\"/>,\n",
       " <input name=\"authenticity_token\" type=\"hidden\" value=\"esG/SkEqHT1389Cevy9Twm7QthhRx/jRKOcaKB7HL4hJ1CKDPA2P4Zf6GkO93CNQ/9ZVB4647NZ4AUuvOPnU9w==\"> <label for=\"login_field\">\n",
       "     Username or email address\n",
       "   </label>\n",
       " <input autocapitalize=\"off\" autocomplete=\"username\" autocorrect=\"off\" autofocus=\"autofocus\" class=\"form-control input-block\" id=\"login_field\" name=\"login\" type=\"text\"/>\n",
       " <div class=\"position-relative\">\n",
       " <label for=\"password\">\n",
       "       Password\n",
       "     </label>\n",
       " <input autocomplete=\"current-password\" class=\"form-control form-control input-block\" id=\"password\" name=\"password\" type=\"password\"/>\n",
       " <input class=\"form-control\" id=\"trusted_device\" name=\"trusted_device\" type=\"hidden\"/>\n",
       " <input class=\"js-webauthn-support\" name=\"webauthn-support\" type=\"hidden\" value=\"unknown\"/>\n",
       " <input class=\"js-webauthn-iuvpaa-support\" name=\"webauthn-iuvpaa-support\" type=\"hidden\" value=\"unknown\"/>\n",
       " <input class=\"form-control\" id=\"return_to\" name=\"return_to\" type=\"hidden\" value=\"https://github.com/login\">\n",
       " <input class=\"form-control\" id=\"allow_signup\" name=\"allow_signup\" type=\"hidden\">\n",
       " <input class=\"form-control\" id=\"client_id\" name=\"client_id\" type=\"hidden\"/>\n",
       " <input class=\"form-control\" id=\"integration\" name=\"integration\" type=\"hidden\"/>\n",
       " <input class=\"form-control\" hidden=\"hidden\" name=\"required_field_29e0\" type=\"text\"/><input class=\"form-control\" name=\"timestamp\" type=\"hidden\" value=\"1627964557427\"/><input class=\"form-control\" name=\"timestamp_secret\" type=\"hidden\" value=\"357db7c4c4e283d61d6cf1f88316136103859d1b0997e2c5a29d9c5ecd3e5f25\"/>\n",
       " <input class=\"btn btn-primary btn-block\" data-disable-with=\"Signing in…\" name=\"commit\" type=\"submit\" value=\"Sign in\"/>\n",
       " <a class=\"label-link position-absolute top-0 right-0\" href=\"/password_reset\" tabindex=\"0\">Forgot password?</a>\n",
       " </input></input></div>\n",
       " </input>,\n",
       " <input class=\"form-control\" id=\"trusted_device\" name=\"trusted_device\" type=\"hidden\"/>,\n",
       " <input class=\"js-webauthn-support\" name=\"webauthn-support\" type=\"hidden\" value=\"unknown\"/>,\n",
       " <input class=\"js-webauthn-iuvpaa-support\" name=\"webauthn-iuvpaa-support\" type=\"hidden\" value=\"unknown\"/>,\n",
       " <input class=\"form-control\" id=\"return_to\" name=\"return_to\" type=\"hidden\" value=\"https://github.com/login\">\n",
       " <input class=\"form-control\" id=\"allow_signup\" name=\"allow_signup\" type=\"hidden\">\n",
       " <input class=\"form-control\" id=\"client_id\" name=\"client_id\" type=\"hidden\"/>\n",
       " <input class=\"form-control\" id=\"integration\" name=\"integration\" type=\"hidden\"/>\n",
       " <input class=\"form-control\" hidden=\"hidden\" name=\"required_field_29e0\" type=\"text\"/><input class=\"form-control\" name=\"timestamp\" type=\"hidden\" value=\"1627964557427\"/><input class=\"form-control\" name=\"timestamp_secret\" type=\"hidden\" value=\"357db7c4c4e283d61d6cf1f88316136103859d1b0997e2c5a29d9c5ecd3e5f25\"/>\n",
       " <input class=\"btn btn-primary btn-block\" data-disable-with=\"Signing in…\" name=\"commit\" type=\"submit\" value=\"Sign in\"/>\n",
       " <a class=\"label-link position-absolute top-0 right-0\" href=\"/password_reset\" tabindex=\"0\">Forgot password?</a>\n",
       " </input></input>,\n",
       " <input class=\"form-control\" id=\"allow_signup\" name=\"allow_signup\" type=\"hidden\">\n",
       " <input class=\"form-control\" id=\"client_id\" name=\"client_id\" type=\"hidden\"/>\n",
       " <input class=\"form-control\" id=\"integration\" name=\"integration\" type=\"hidden\"/>\n",
       " <input class=\"form-control\" hidden=\"hidden\" name=\"required_field_29e0\" type=\"text\"/><input class=\"form-control\" name=\"timestamp\" type=\"hidden\" value=\"1627964557427\"/><input class=\"form-control\" name=\"timestamp_secret\" type=\"hidden\" value=\"357db7c4c4e283d61d6cf1f88316136103859d1b0997e2c5a29d9c5ecd3e5f25\"/>\n",
       " <input class=\"btn btn-primary btn-block\" data-disable-with=\"Signing in…\" name=\"commit\" type=\"submit\" value=\"Sign in\"/>\n",
       " <a class=\"label-link position-absolute top-0 right-0\" href=\"/password_reset\" tabindex=\"0\">Forgot password?</a>\n",
       " </input>,\n",
       " <input class=\"form-control\" id=\"client_id\" name=\"client_id\" type=\"hidden\"/>,\n",
       " <input class=\"form-control\" id=\"integration\" name=\"integration\" type=\"hidden\"/>,\n",
       " <input class=\"form-control\" name=\"timestamp\" type=\"hidden\" value=\"1627964557427\"/>,\n",
       " <input class=\"form-control\" name=\"timestamp_secret\" type=\"hidden\" value=\"357db7c4c4e283d61d6cf1f88316136103859d1b0997e2c5a29d9c5ecd3e5f25\"/>]"
      ]
     },
     "execution_count": 4,
     "metadata": {},
     "output_type": "execute_result"
    }
   ],
   "source": [
    "#<input=\"hidden\"> will give values for all the hidden values in the login page\n",
    "hidden_tags = html_soup.find_all(\"input\",type=\"hidden\")\n",
    "hidden_tags"
   ]
  },
  {
   "cell_type": "code",
   "execution_count": 5,
   "metadata": {},
   "outputs": [
    {
     "name": "stdout",
     "output_type": "stream",
     "text": [
      "{'authenticity_token': 'esG/SkEqHT1389Cevy9Twm7QthhRx/jRKOcaKB7HL4hJ1CKDPA2P4Zf6GkO93CNQ/9ZVB4647NZ4AUuvOPnU9w=='}\n",
      "{'authenticity_token': 'esG/SkEqHT1389Cevy9Twm7QthhRx/jRKOcaKB7HL4hJ1CKDPA2P4Zf6GkO93CNQ/9ZVB4647NZ4AUuvOPnU9w==', 'trusted_device': None}\n",
      "{'authenticity_token': 'esG/SkEqHT1389Cevy9Twm7QthhRx/jRKOcaKB7HL4hJ1CKDPA2P4Zf6GkO93CNQ/9ZVB4647NZ4AUuvOPnU9w==', 'trusted_device': None, 'webauthn-support': 'unknown'}\n",
      "{'authenticity_token': 'esG/SkEqHT1389Cevy9Twm7QthhRx/jRKOcaKB7HL4hJ1CKDPA2P4Zf6GkO93CNQ/9ZVB4647NZ4AUuvOPnU9w==', 'trusted_device': None, 'webauthn-support': 'unknown', 'webauthn-iuvpaa-support': 'unknown'}\n",
      "{'authenticity_token': 'esG/SkEqHT1389Cevy9Twm7QthhRx/jRKOcaKB7HL4hJ1CKDPA2P4Zf6GkO93CNQ/9ZVB4647NZ4AUuvOPnU9w==', 'trusted_device': None, 'webauthn-support': 'unknown', 'webauthn-iuvpaa-support': 'unknown', 'return_to': 'https://github.com/login'}\n",
      "{'authenticity_token': 'esG/SkEqHT1389Cevy9Twm7QthhRx/jRKOcaKB7HL4hJ1CKDPA2P4Zf6GkO93CNQ/9ZVB4647NZ4AUuvOPnU9w==', 'trusted_device': None, 'webauthn-support': 'unknown', 'webauthn-iuvpaa-support': 'unknown', 'return_to': 'https://github.com/login', 'allow_signup': None}\n",
      "{'authenticity_token': 'esG/SkEqHT1389Cevy9Twm7QthhRx/jRKOcaKB7HL4hJ1CKDPA2P4Zf6GkO93CNQ/9ZVB4647NZ4AUuvOPnU9w==', 'trusted_device': None, 'webauthn-support': 'unknown', 'webauthn-iuvpaa-support': 'unknown', 'return_to': 'https://github.com/login', 'allow_signup': None, 'client_id': None}\n",
      "{'authenticity_token': 'esG/SkEqHT1389Cevy9Twm7QthhRx/jRKOcaKB7HL4hJ1CKDPA2P4Zf6GkO93CNQ/9ZVB4647NZ4AUuvOPnU9w==', 'trusted_device': None, 'webauthn-support': 'unknown', 'webauthn-iuvpaa-support': 'unknown', 'return_to': 'https://github.com/login', 'allow_signup': None, 'client_id': None, 'integration': None}\n",
      "{'authenticity_token': 'esG/SkEqHT1389Cevy9Twm7QthhRx/jRKOcaKB7HL4hJ1CKDPA2P4Zf6GkO93CNQ/9ZVB4647NZ4AUuvOPnU9w==', 'trusted_device': None, 'webauthn-support': 'unknown', 'webauthn-iuvpaa-support': 'unknown', 'return_to': 'https://github.com/login', 'allow_signup': None, 'client_id': None, 'integration': None, 'timestamp': '1627964557427'}\n",
      "{'authenticity_token': 'esG/SkEqHT1389Cevy9Twm7QthhRx/jRKOcaKB7HL4hJ1CKDPA2P4Zf6GkO93CNQ/9ZVB4647NZ4AUuvOPnU9w==', 'trusted_device': None, 'webauthn-support': 'unknown', 'webauthn-iuvpaa-support': 'unknown', 'return_to': 'https://github.com/login', 'allow_signup': None, 'client_id': None, 'integration': None, 'timestamp': '1627964557427', 'timestamp_secret': '357db7c4c4e283d61d6cf1f88316136103859d1b0997e2c5a29d9c5ecd3e5f25'}\n"
     ]
    }
   ],
   "source": [
    "data={}\n",
    "for form in html_soup.find_all('form'):\n",
    "    #get out the hidden form fields\n",
    "    for inp in form.select('input[type=hidden]'):\n",
    "        data[inp.get('name')]=inp.get('value')\n",
    "        print(data)"
   ]
  },
  {
   "cell_type": "code",
   "execution_count": 6,
   "metadata": {},
   "outputs": [
    {
     "name": "stdout",
     "output_type": "stream",
     "text": [
      "Do you want to login(y/n):y\n"
     ]
    },
    {
     "ename": "AttributeError",
     "evalue": "'NoneType' object has no attribute 'text'",
     "output_type": "error",
     "traceback": [
      "\u001b[1;31m---------------------------------------------------------------------------\u001b[0m",
      "\u001b[1;31mAttributeError\u001b[0m                            Traceback (most recent call last)",
      "\u001b[1;32m<ipython-input-6-74b91388a527>\u001b[0m in \u001b[0;36m<module>\u001b[1;34m\u001b[0m\n\u001b[0;32m      7\u001b[0m \u001b[0mhtml_soup\u001b[0m \u001b[1;33m=\u001b[0m \u001b[0mBeautifulSoup\u001b[0m\u001b[1;33m(\u001b[0m\u001b[0mr\u001b[0m\u001b[1;33m.\u001b[0m\u001b[0mtext\u001b[0m\u001b[1;33m,\u001b[0m\u001b[1;34m'html.parser'\u001b[0m\u001b[1;33m)\u001b[0m\u001b[1;33m\u001b[0m\u001b[1;33m\u001b[0m\u001b[0m\n\u001b[0;32m      8\u001b[0m \u001b[0muser_info\u001b[0m \u001b[1;33m=\u001b[0m \u001b[0mhtml_soup\u001b[0m\u001b[1;33m.\u001b[0m\u001b[0mfind\u001b[0m\u001b[1;33m(\u001b[0m\u001b[0mclass_\u001b[0m\u001b[1;33m=\u001b[0m\u001b[1;34m'vcard-detail'\u001b[0m\u001b[1;33m)\u001b[0m\u001b[1;33m\u001b[0m\u001b[1;33m\u001b[0m\u001b[0m\n\u001b[1;32m----> 9\u001b[1;33m \u001b[0mprint\u001b[0m\u001b[1;33m(\u001b[0m\u001b[0muser_info\u001b[0m\u001b[1;33m.\u001b[0m\u001b[0mtext\u001b[0m\u001b[1;33m)\u001b[0m\u001b[1;33m\u001b[0m\u001b[1;33m\u001b[0m\u001b[0m\n\u001b[0m",
      "\u001b[1;31mAttributeError\u001b[0m: 'NoneType' object has no attribute 'text'"
     ]
    }
   ],
   "source": [
    "if input('Do you want to login(y/n):') == 'y':\n",
    "    #perform the login\n",
    "    r=session.post(url.format('session'),data=data)\n",
    "    #get the profile page\n",
    "    r=session.get(url.format(username))\n",
    "    \n",
    "html_soup = BeautifulSoup(r.text,'html.parser')\n",
    "user_info = html_soup.find(class_='vcard-detail')\n",
    "print(user_info.text)"
   ]
  },
  {
   "cell_type": "code",
   "execution_count": null,
   "metadata": {},
   "outputs": [],
   "source": []
  },
  {
   "cell_type": "code",
   "execution_count": null,
   "metadata": {},
   "outputs": [],
   "source": []
  }
 ],
 "metadata": {
  "kernelspec": {
   "display_name": "Python 3",
   "language": "python",
   "name": "python3"
  },
  "language_info": {
   "codemirror_mode": {
    "name": "ipython",
    "version": 3
   },
   "file_extension": ".py",
   "mimetype": "text/x-python",
   "name": "python",
   "nbconvert_exporter": "python",
   "pygments_lexer": "ipython3",
   "version": "3.8.5"
  }
 },
 "nbformat": 4,
 "nbformat_minor": 4
}
